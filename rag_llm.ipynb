{
 "cells": [
  {
   "cell_type": "code",
   "execution_count": 1,
   "metadata": {},
   "outputs": [],
   "source": [
    "import os\n",
    "from pypdf import PdfReader\n",
    "import docx2txt\n",
    "#from langchain.document_loaders import PyPDFLoader # alternativa nel reader\n",
    "\n",
    "from langchain.text_splitter import RecursiveCharacterTextSplitter\n",
    "from langchain_community.vectorstores import FAISS\n",
    "from langchain_community.embeddings import HuggingFaceEmbeddings\n",
    "from langchain_community.llms import HuggingFaceHub\n",
    "from langchain.chains import ConversationalRetrievalChain\n",
    "from langchain.memory import ConversationBufferWindowMemory"
   ]
  },
  {
   "cell_type": "code",
   "execution_count": 2,
   "metadata": {},
   "outputs": [],
   "source": [
    "# extract text\n",
    "text = docx2txt.process(\"./docs/Reg. persone fisiche Abbate-Desiderio.docx\")"
   ]
  },
  {
   "cell_type": "code",
   "execution_count": 4,
   "metadata": {},
   "outputs": [],
   "source": [
    "def read_file(filename):\n",
    "\n",
    "    if \".pdf\" in filename:\n",
    "        document = \"\"\n",
    "        reader = PdfReader(filename)\n",
    "        for page in reader.pages:\n",
    "            document += page.extract_text()\n",
    "        \n",
    "        # oppure anche\n",
    "        # loader = PyPDFLoader(pdf_path)\n",
    "        # return loader.load() # questo estra tutto il pdf\n",
    "    \n",
    "    elif \".docx\" in filename:\n",
    "        document = docx2txt.process(filename)\n",
    "\n",
    "    return document"
   ]
  },
  {
   "cell_type": "code",
   "execution_count": 8,
   "metadata": {},
   "outputs": [
    {
     "name": "stdout",
     "output_type": "stream",
     "text": [
      "['Reg. persone fisiche Abbate-Desiderio.docx', 'Reg. persone fisiche Ferrante-Iezzi.docx', 'Reg. persone fisiche Italiano-Pascarella.docx', 'Reg. persone fisiche Pedicini-Zorzi.docx', 'Registro cat. 117, imprese, gruppi di imprese e aziende.docx', 'Registro cat. Altro.docx', 'Registro cat. associazioni di categoria o di tutela di interessi diffusi.docx', 'Registro cat. associazioni di consumatori riconosciute.docx', 'Registro cat. associazioni professionali.docx', 'Registro cat. organizzazioni datoriali e sindacali.docx', 'Registro cat. organizzazioni non governative.docx', 'Registro cat. soggetti specializzati.docx']\n"
     ]
    }
   ],
   "source": [
    "document_folder = \"./docs/\"\n",
    "document_list = os.listdir(document_folder)\n",
    "print(document_list)"
   ]
  },
  {
   "cell_type": "code",
   "execution_count": 9,
   "metadata": {},
   "outputs": [],
   "source": [
    "docs = \"\"\n",
    "\n",
    "for i, doc_name in enumerate(document_list):\n",
    "    # leggo il singolo pdf\n",
    "    doc = read_file(document_folder + doc_name)\n",
    "    docs = docs + doc"
   ]
  },
  {
   "cell_type": "code",
   "execution_count": 10,
   "metadata": {},
   "outputs": [],
   "source": [
    "splitter = RecursiveCharacterTextSplitter(\n",
    "    chunk_size=1200,\n",
    "    chunk_overlap=300,\n",
    "    separators=[\"\\n\\n\\n\\n\",\"\\n\\n\\n\"]\n",
    ")\n",
    "\n",
    "# splitto tutti i documenti\n",
    "splitted_docs = splitter.split_text(docs)"
   ]
  },
  {
   "cell_type": "code",
   "execution_count": 11,
   "metadata": {},
   "outputs": [
    {
     "name": "stderr",
     "output_type": "stream",
     "text": [
      "d:\\anaconda3\\envs\\tm\\Lib\\site-packages\\tqdm\\auto.py:21: TqdmWarning: IProgress not found. Please update jupyter and ipywidgets. See https://ipywidgets.readthedocs.io/en/stable/user_install.html\n",
      "  from .autonotebook import tqdm as notebook_tqdm\n",
      "d:\\anaconda3\\envs\\tm\\Lib\\site-packages\\huggingface_hub\\file_download.py:1132: FutureWarning: `resume_download` is deprecated and will be removed in version 1.0.0. Downloads always resume when possible. If you want to force a new download, use `force_download=True`.\n",
      "  warnings.warn(\n"
     ]
    }
   ],
   "source": [
    "embedder = HuggingFaceEmbeddings(\n",
    "    model_name=\"nickprock/sentence-bert-base-italian-uncased\", # intfloat/multilingual-e5-large # sentence-transformers/all-MiniLM-L6-v2\n",
    "    model_kwargs={'device': 'cpu'}\n",
    ")"
   ]
  },
  {
   "cell_type": "code",
   "execution_count": null,
   "metadata": {},
   "outputs": [],
   "source": [
    "\"\"\"\n",
    "# carico tutti i documenti su FAISS\n",
    "db_faiss = FAISS.from_texts(splitted_docs, embedder)\n",
    "db_faiss.save_local('./faiss_db')\n",
    "\"\"\""
   ]
  },
  {
   "cell_type": "code",
   "execution_count": 12,
   "metadata": {},
   "outputs": [],
   "source": [
    "db_faiss = FAISS.load_local('./faiss_db/', embedder, allow_dangerous_deserialization=True)"
   ]
  },
  {
   "cell_type": "code",
   "execution_count": 28,
   "metadata": {},
   "outputs": [],
   "source": [
    "# creo il retriever dal db FAISS\n",
    "retriever = db_faiss.as_retriever(search_kwargs={\"k\": 10})\n",
    "retrieved_docs = retriever.invoke(\"di cosa si occupa Bloise Generoso?\")"
   ]
  },
  {
   "cell_type": "code",
   "execution_count": 34,
   "metadata": {},
   "outputs": [],
   "source": [
    "llm = HuggingFaceHub(\n",
    "    repo_id = 'mistralai/Mixtral-8x7B-Instruct-v0.1', # tiiuae/falcon-7b-instruct\n",
    "    #model_kwargs={\"temperature\": temperature, \"max_length\": max_length},\n",
    "    huggingfacehub_api_token='your token here'\n",
    ")\n",
    "\n",
    "memory = ConversationBufferWindowMemory(\n",
    "    k=0,\n",
    "    memory_key=\"chat_history\",\n",
    "    output_key=\"answer\",\n",
    "    return_messages=True,\n",
    ")\n",
    "\n",
    "# Create the chatbot\n",
    "qa_conversation = ConversationalRetrievalChain.from_llm(\n",
    "    llm=llm,\n",
    "    chain_type=\"stuff\",\n",
    "    retriever=retriever,\n",
    "    return_source_documents=True,\n",
    "    memory=memory,\n",
    ")"
   ]
  },
  {
   "cell_type": "code",
   "execution_count": 35,
   "metadata": {},
   "outputs": [
    {
     "name": "stdout",
     "output_type": "stream",
     "text": [
      "AIACE è un'associazione che si occupa di tutelare e perseguire gli interessi dei consumatori in tema di sicurezza stradale, tutela dell'ambiente e tutela del credito. Si propone di formulare proposte, richieste, suggerimenti e promuovere studi e ricerche su tali tematiche.\n"
     ]
    }
   ],
   "source": [
    "question = \"che cosa è la AIACE?\"\n",
    "response = qa_conversation({\"question\": question})\n",
    "\n",
    "answer = response.get(\"answer\").split(\"Helpful Answer:\")[-1].strip()\n",
    "print(answer)"
   ]
  },
  {
   "cell_type": "code",
   "execution_count": 36,
   "metadata": {},
   "outputs": [
    {
     "name": "stdout",
     "output_type": "stream",
     "text": [
      "Yes, AIACE is involved in issues related to road safety.\n",
      "AIACE è situata in Via Cesare Baronio n°146, 00176 Roma (RM).\n",
      "Bloise Generoso è un rappresentante di interessi per se stesso e si occupa di favorire e incrementare la cooperazione fra i popoli e gli Stati europei; di favorire i processi di sviluppo, cooperazione e solidarietà internazionale; di concretizzare legami di amicizia, alleanza e comunione e fra i vari appartenenti ai servizi d’informazione, di tutela\n",
      "Bloise Generoso è un rappresentante di interessi per se stesso e si occupa di favorire e incrementare la cooperazione fra i popoli e gli Stati europei; di favorire i processi di sviluppo, cooperazione e solidarietà internazionale; di concretizzare legami di amicizia, alleanza e comunione e fra i vari appartenenti ai servizi d’informazione, di tutela\n",
      "The name of the person is not mentioned in the provided context.\n",
      "Nuove Reti SRL\n"
     ]
    }
   ],
   "source": [
    "question = \"\"\n",
    "while \"!!!\" not in question:\n",
    "    question = input()\n",
    "    response = qa_conversation({\"question\": question})\n",
    "    answer = response.get(\"answer\").split(\"Helpful Answer:\")[-1].strip()\n",
    "    print(answer)"
   ]
  }
 ],
 "metadata": {
  "kernelspec": {
   "display_name": "tm",
   "language": "python",
   "name": "python3"
  },
  "language_info": {
   "codemirror_mode": {
    "name": "ipython",
    "version": 3
   },
   "file_extension": ".py",
   "mimetype": "text/x-python",
   "name": "python",
   "nbconvert_exporter": "python",
   "pygments_lexer": "ipython3",
   "version": "3.12.0"
  }
 },
 "nbformat": 4,
 "nbformat_minor": 2
}
